{
 "cells": [
  {
   "cell_type": "code",
   "execution_count": 1,
   "id": "fd0a67d3",
   "metadata": {},
   "outputs": [
    {
     "name": "stderr",
     "output_type": "stream",
     "text": [
      "<>:12: SyntaxWarning: \"is\" with a literal. Did you mean \"==\"?\n",
      "<>:12: SyntaxWarning: \"is\" with a literal. Did you mean \"==\"?\n",
      "<ipython-input-1-40f60cc4d5cd>:12: SyntaxWarning: \"is\" with a literal. Did you mean \"==\"?\n",
      "  if img is ():\n"
     ]
    },
    {
     "name": "stdout",
     "output_type": "stream",
     "text": [
      "No face found\n",
      "No face found\n",
      "No face found\n",
      "No face found\n",
      "No face found\n",
      "No face found\n",
      "No face found\n",
      "No face found\n",
      "No face found\n",
      "Dataset Generated\n"
     ]
    }
   ],
   "source": [
    "import cv2\n",
    "import numpy as np\n",
    "face_det = cv2.CascadeClassifier(\"haarcascade_frontalface_default.xml\")\n",
    "\n",
    "#Activating my webcam\n",
    "cap = cv2.VideoCapture(0)  \n",
    "#defining a function to detect and extract cropped faces\n",
    "def face_ext(image):\n",
    "    img_gray = cv2.cvtColor(image,cv2.COLOR_BGR2GRAY)\n",
    "    img = face_det.detectMultiScale(img_gray, 1.3, 5)\n",
    "    \n",
    "    if img is ():\n",
    "        return None\n",
    "    \n",
    "    for (x,y,w,h) in img:\n",
    "        crop_face = image[y:y+h, x:x+w]\n",
    "    \n",
    "    return crop_face\n",
    "  \n",
    "#Creating dataset for training model for face detection\n",
    "i=0\n",
    "Training_Data, Labels = [], []\n",
    "while i<150:\n",
    "    ret, photo = cap.read()\n",
    "    if face_ext(photo) is not None:\n",
    "        face = cv2.resize(face_ext(photo),(200, 200))\n",
    "        face = cv2.cvtColor(face,cv2.COLOR_BGR2GRAY)\n",
    "        \n",
    "        Training_Data.append(np.asarray(face, dtype=np.uint8))\n",
    "        Labels.append(i)\n",
    "        i += 1\n",
    "        \n",
    "       \n",
    "        \n",
    "        #displaying the dataset\n",
    "        cv2.putText(face, str(i), (50, 50), cv2.FONT_HERSHEY_PLAIN, 1, (0,255,0), 2)\n",
    "        cv2.imshow('Gathering Training Data', face)\n",
    "    else:\n",
    "        print(\"No face found\")\n",
    "        pass\n",
    "    if cv2.waitKey(1)==13:\n",
    "        break\n",
    "cap.release()\n",
    "cv2.destroyAllWindows()\n",
    "Labels = np.asarray(Labels, dtype=np.int32)\n",
    "print(\"Dataset Generated\")"
   ]
  },
  {
   "cell_type": "code",
   "execution_count": 2,
   "id": "9364fb65",
   "metadata": {},
   "outputs": [
    {
     "name": "stdout",
     "output_type": "stream",
     "text": [
      "Model trained sucessefully\n"
     ]
    }
   ],
   "source": [
    "model  = cv2.face_LBPHFaceRecognizer.create() \n",
    "model.train(np.asarray(Training_Data), np.asarray(Labels))\n",
    "print(\"Model trained sucessefully\")"
   ]
  },
  {
   "cell_type": "code",
   "execution_count": 3,
   "id": "2da2c66d",
   "metadata": {},
   "outputs": [
    {
     "name": "stderr",
     "output_type": "stream",
     "text": [
      "<>:9: SyntaxWarning: \"is\" with a literal. Did you mean \"==\"?\n",
      "<>:9: SyntaxWarning: \"is\" with a literal. Did you mean \"==\"?\n",
      "<ipython-input-3-cd0fbd7fa199>:9: SyntaxWarning: \"is\" with a literal. Did you mean \"==\"?\n",
      "  if faces is ():\n"
     ]
    },
    {
     "name": "stdout",
     "output_type": "stream",
     "text": [
      "Instance Launched successfully\n"
     ]
    }
   ],
   "source": [
    "import os\n",
    "import boto3\n",
    "\n",
    "def face_detector(img, size=0.5):\n",
    "    \n",
    "    # Convert image to grayscale\n",
    "    gray = cv2.cvtColor(img,cv2.COLOR_BGR2GRAY)\n",
    "    faces = face_det.detectMultiScale(gray, 1.3, 5)\n",
    "    if faces is ():\n",
    "        return img, []\n",
    "    \n",
    "    \n",
    "    for (x,y,w,h) in faces:\n",
    "        cv2.rectangle(img,(x,y),(x+w,y+h),(0,255,255),2)\n",
    "        roi = img[y:y+h, x:x+w]\n",
    "        roi = cv2.resize(roi, (200, 200))\n",
    "    return img, roi\n",
    "\n",
    "\n",
    "# Open Webcam\n",
    "cap = cv2.VideoCapture(0)\n",
    "\n",
    "while True:\n",
    "\n",
    "    ret, frame = cap.read()\n",
    "    image, face = face_detector(frame)\n",
    "    try:\n",
    "        face = cv2.cvtColor(face, cv2.COLOR_BGR2GRAY)\n",
    "\n",
    "        results = model.predict(face)\n",
    "        \n",
    "        if results[1] < 500:\n",
    "            confidence = int( 100 * (1 - (results[1])/400) )\n",
    "            disp_text = str(confidence) + '% Confident it is User'\n",
    "            \n",
    "        cv2.putText(image, disp_text, (100, 120), cv2.FONT_HERSHEY_COMPLEX, 1, (255,100,100), 2)\n",
    "        \n",
    "        if confidence > 90:\n",
    "            cv2.putText(image, \"Hey AAKASH :)\", (250, 450), cv2.FONT_HERSHEY_COMPLEX, 1, (0,100,255), 2)\n",
    "            cv2.imshow('Face Recognition', image )\n",
    "        \n",
    "        else:\n",
    "            cv2.putText(image, \"Not sure who you are\", (250, 450), cv2.FONT_HERSHEY_COMPLEX, 1, (0,100,255), 2)\n",
    "            cv2.imshow('Face Recognition', image )\n",
    "\n",
    "    except:\n",
    "        cv2.putText(image, \"No Face Detected\", (220, 120) , cv2.FONT_HERSHEY_COMPLEX, 1, (0,111,255), 2)\n",
    "        cv2.putText(image, \"Looking for a face\", (250, 450), cv2.FONT_HERSHEY_COMPLEX, 1, (0,100,255), 2)\n",
    "        cv2.imshow('Face Recognition', image )\n",
    "        pass\n",
    "        \n",
    "    if cv2.waitKey(1) == 13:\n",
    "        break\n",
    "    \n",
    "        \n",
    "cap.release()\n",
    "cv2.destroyAllWindows()\n",
    "\n",
    "#Launching an ec2 instance and a 5GB instance volume if second face is recognized:\n",
    "if confidence > 90:\n",
    "    #for launching instance\n",
    "    ec2 = boto3.resource('ec2')\n",
    "\n",
    "# create a new EC2 instance\n",
    "    instances = ec2.create_instances(\n",
    "            ImageId='ami-0ad704c126371a549',\n",
    "         MinCount=1,\n",
    "         MaxCount=1\n",
    "        ,\n",
    "         InstanceType='t2.micro',\n",
    "         KeyName='awspass'\n",
    " )\n",
    "   \n",
    "    print(\"Instance Launched successfully\")\n",
    "    \n"
   ]
  },
  {
   "cell_type": "code",
   "execution_count": 4,
   "id": "2c3e5dfe",
   "metadata": {},
   "outputs": [
    {
     "name": "stdout",
     "output_type": "stream",
     "text": [
      "An EBS volume of size 5gb has been created\n"
     ]
    }
   ],
   "source": [
    "os.system(\"aws ec2 create-volume  --availability-zone ap-south-1a  --size 5  --volume-type gp2\")\n",
    "print(\"An EBS volume of size 5gb has been created\")"
   ]
  },
  {
   "cell_type": "code",
   "execution_count": 5,
   "id": "3cd9e4da",
   "metadata": {},
   "outputs": [
    {
     "data": {
      "text/plain": [
       "0"
      ]
     },
     "execution_count": 5,
     "metadata": {},
     "output_type": "execute_result"
    }
   ],
   "source": [
    "os.system(\"aws ec2 attach-volume --volume-id vol-0a0cc97581bd0e04a --instance-id i-0a300540d68fb7a0e --device /dev/xvdf\")"
   ]
  },
  {
   "cell_type": "code",
   "execution_count": null,
   "id": "8011f7f5",
   "metadata": {},
   "outputs": [],
   "source": []
  },
  {
   "cell_type": "code",
   "execution_count": null,
   "id": "e773729a",
   "metadata": {},
   "outputs": [],
   "source": []
  }
 ],
 "metadata": {
  "kernelspec": {
   "display_name": "Python 3",
   "language": "python",
   "name": "python3"
  },
  "language_info": {
   "codemirror_mode": {
    "name": "ipython",
    "version": 3
   },
   "file_extension": ".py",
   "mimetype": "text/x-python",
   "name": "python",
   "nbconvert_exporter": "python",
   "pygments_lexer": "ipython3",
   "version": "3.8.8"
  }
 },
 "nbformat": 4,
 "nbformat_minor": 5
}
